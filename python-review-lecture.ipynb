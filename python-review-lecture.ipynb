{
 "cells": [
  {
   "cell_type": "markdown",
   "id": "60bef415",
   "metadata": {},
   "source": [
    "CSC/MAT-338\n",
    "Python Review Class Activity"
   ]
  },
  {
   "cell_type": "markdown",
   "id": "ddabcb86",
   "metadata": {},
   "source": [
    "Activity 1: Data Types"
   ]
  },
  {
   "cell_type": "code",
   "execution_count": 10,
   "id": "c74029d1",
   "metadata": {},
   "outputs": [
    {
     "name": "stdout",
     "output_type": "stream",
     "text": [
      "8.14\n"
     ]
    }
   ],
   "source": [
    "a = 5\n",
    "b = 3.14\n",
    "\n",
    "print(a+b)"
   ]
  },
  {
   "cell_type": "code",
   "execution_count": 8,
   "id": "20be81a9",
   "metadata": {},
   "outputs": [
    {
     "name": "stdout",
     "output_type": "stream",
     "text": [
      "Hello, World!  I love computer science!\n",
      "Hello\n",
      "<class 'str'>\n"
     ]
    }
   ],
   "source": [
    "MyString = 'Hello, World!'\n",
    "MyString2 = 'I love computer science!'\n",
    "\n",
    "print(MyString + '  ' + MyString2)\n",
    "\n",
    "print(MyString[0:5])\n",
    "\n",
    "print(type(MyString))"
   ]
  },
  {
   "cell_type": "markdown",
   "id": "53114241",
   "metadata": {
    "vscode": {
     "languageId": "plaintext"
    }
   },
   "source": [
    "Activity 2: String concatenation and F-strings"
   ]
  },
  {
   "cell_type": "code",
   "execution_count": null,
   "id": "6517786f",
   "metadata": {},
   "outputs": [],
   "source": []
  },
  {
   "cell_type": "markdown",
   "id": "cac0c177",
   "metadata": {},
   "source": [
    "Activity 3: Control Structures"
   ]
  },
  {
   "cell_type": "code",
   "execution_count": 11,
   "id": "5220e020",
   "metadata": {},
   "outputs": [
    {
     "name": "stdout",
     "output_type": "stream",
     "text": [
      "a is not less than b\n"
     ]
    }
   ],
   "source": [
    "if a < b:\n",
    "    print(\"a is less than b\")\n",
    "else:\n",
    "    print(\"a is not less than b\")"
   ]
  },
  {
   "cell_type": "markdown",
   "id": "f45d518e",
   "metadata": {},
   "source": [
    "Activity 4: Object-oriented programming"
   ]
  },
  {
   "cell_type": "code",
   "execution_count": 13,
   "id": "d935ce19",
   "metadata": {},
   "outputs": [
    {
     "name": "stdout",
     "output_type": "stream",
     "text": [
      "7\n",
      "22\n",
      "11\n",
      "34\n",
      "17\n",
      "52\n",
      "26\n",
      "13\n",
      "40\n",
      "20\n",
      "10\n",
      "5\n",
      "16\n",
      "8\n",
      "4\n",
      "2\n"
     ]
    }
   ],
   "source": [
    "def collatz(n: int) -> int:\n",
    "    if n % 2 == 1:\n",
    "        return 3*n+1\n",
    "    else:\n",
    "        return n//2\n",
    "\n",
    "mynum = 7\n",
    "while (mynum != 1):\n",
    "    print(mynum)\n",
    "    mynum = collatz(mynum)\n"
   ]
  },
  {
   "cell_type": "code",
   "execution_count": 20,
   "id": "6483c009",
   "metadata": {},
   "outputs": [
    {
     "name": "stdout",
     "output_type": "stream",
     "text": [
      "1\n"
     ]
    }
   ],
   "source": [
    "class Enemy:\n",
    "\n",
    "    def __init__(self, health):\n",
    "        self.health = health\n",
    "\n",
    "    def damage(self, damageamt):\n",
    "        self.health = self.health - damageamt\n",
    "\n",
    "\n",
    "\n",
    "class Goomba(Enemy):\n",
    "\n",
    "    def __init__(self, health):\n",
    "        super().__init__(health)\n",
    "\n",
    "        self.color = 'Brown'\n",
    "\n",
    "enemy1 = Goomba(5)\n",
    "\n",
    "enemy1.damage(4)\n",
    "\n",
    "print(enemy1.health)"
   ]
  },
  {
   "cell_type": "code",
   "execution_count": null,
   "id": "1f4f0509",
   "metadata": {},
   "outputs": [],
   "source": []
  }
 ],
 "metadata": {
  "kernelspec": {
   "display_name": "ML-base",
   "language": "python",
   "name": "python3"
  },
  "language_info": {
   "codemirror_mode": {
    "name": "ipython",
    "version": 3
   },
   "file_extension": ".py",
   "mimetype": "text/x-python",
   "name": "python",
   "nbconvert_exporter": "python",
   "pygments_lexer": "ipython3",
   "version": "3.12.11"
  }
 },
 "nbformat": 4,
 "nbformat_minor": 5
}
